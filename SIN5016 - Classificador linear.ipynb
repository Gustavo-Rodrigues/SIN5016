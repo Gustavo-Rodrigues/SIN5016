{
 "cells": [
  {
   "cell_type": "markdown",
   "metadata": {},
   "source": [
    "### Nome: Gustavo Rodrigues Silva NºUSP: 8516970\n",
    "<br>\n",
    "\n",
    "\n",
    "# Classificador linear"
   ]
  },
  {
   "cell_type": "markdown",
   "metadata": {},
   "source": [
    "\n",
    "### **Estrutura do Relatório:**\n",
    "\n",
    "1. Introdução\n",
    "2. Pré-processamento\n",
    "3. Resultados <br>\n",
    "    3.1 Iris <br>\n",
    "    3.2 Hepatite <br>\n",
    "    3.3 Diabetes \n",
    "4. Código <br>\n",
    "    4.1 Carrega os dados <br>\n",
    "    4.2 Pré-processamento <br>\n",
    "    4.3 Classificador <br>"
   ]
  },
  {
   "cell_type": "markdown",
   "metadata": {},
   "source": [
    "# 1. Introdução"
   ]
  },
  {
   "cell_type": "markdown",
   "metadata": {},
   "source": [
    "<p> &emsp; Neste trabalho foram implementados três calssificadores lineares  para problemas binários e multiclasse. Como conjunto de dados foram selecionados três repositórios do UCI machine learning, Iris, Hepatite e Diabetes. Os classificadores foram avaliados em termos de acurácia e a regularização foi em todos os casos. Este atrabalho foi feito no jupyter notebook, misturando código e análise."
   ]
  },
  {
   "cell_type": "markdown",
   "metadata": {},
   "source": [
    "# 2. Pré-processamento"
   ]
  },
  {
   "cell_type": "markdown",
   "metadata": {},
   "source": [
    "&emsp; Nos três dataset foi aplicado one-hot encoding para as variáveis alvo, i.e. as classes foram representadas de maneira similar a um número binário, no caso de três classes sendo a 2 a classe correta a representação é 10. No caso do dataset de diabetes foram necessários alguns filtros a mais, pois existiam alguns dados inconsistentes com o formato proposto, e.g. ao invés de 06:00, a representação era 006. para o dataset de diabetes o cambo código foi considerado como variável alvo."
   ]
  },
  {
   "cell_type": "markdown",
   "metadata": {},
   "source": [
    "# 3. Resultados"
   ]
  },
  {
   "cell_type": "markdown",
   "metadata": {},
   "source": [
    "&emsp; A regularização foi considerada quando se parecia próximo a um sobreajuste, no caso foi utilizada apenas para o dataset Iris. Com um gamma variando de -500 a 500 com passos de 10 em 10 veremos os resultados a seguir:"
   ]
  },
  {
   "cell_type": "markdown",
   "metadata": {},
   "source": [
    "### 3.1 Iris"
   ]
  },
  {
   "cell_type": "code",
   "execution_count": 165,
   "metadata": {
    "ExecuteTime": {
     "end_time": "2018-09-09T21:46:08.190178Z",
     "start_time": "2018-09-09T21:46:07.814587Z"
    },
    "hide_input": false
   },
   "outputs": [
    {
     "data": {
      "image/png": "[encoded data removed]",
      "text/plain": [
       "<Figure size 432x288 with 1 Axes>"
      ]
     },
     "metadata": {},
     "output_type": "display_data"
    }
   ],
   "source": [
    "import matplotlib.pyplot as plt\n",
    "import numpy as np\n",
    "\n",
    "train_result = []\n",
    "test_result = []\n",
    "for i in range(-500,500,10):\n",
    "    w = fit(iris_X_train,iris_Y_train,i)\n",
    "    pred_train = predict(w,iris_X_train)\n",
    "    train_result.append(eval(pred_train,transform_target(iris_Y_train)))\n",
    "    pred_test = predict(w,iris_X_test)\n",
    "    test_result.append(eval(pred_test,transform_target(iris_Y_test)))\n",
    "\n",
    "x = list(range(-500,500,10))\n",
    "plt.plot(x,train_result)\n",
    "plt.plot(x,test_result)\n",
    "plt.legend(['Acurácia no treino', 'Acurácia no teste'], loc='lower right')\n",
    "plt.title(\"Variação da acurácia com regularização\")\n",
    "plt.xlabel('Gamma')\n",
    "plt.ylabel('Acurácia')\n",
    "plt.show()"
   ]
  },
  {
   "cell_type": "markdown",
   "metadata": {},
   "source": [
    "&emsp; Conforme podemos ver no gráfico acima no conjunto de teste a maior acurácia alcançada foi de 68% com um gamma com valor 10. Com valores de gama negativo podemos notar um considerável piora nos resultados do modelo, conforme este valor vai aumentando chegamos a um pico na acurácia com os dados separados para teste e depois a preformance decai."
   ]
  },
  {
   "cell_type": "markdown",
   "metadata": {},
   "source": [
    "### 3.2 Hepatite"
   ]
  },
  {
   "cell_type": "code",
   "execution_count": 170,
   "metadata": {
    "ExecuteTime": {
     "end_time": "2018-09-09T22:03:33.656186Z",
     "start_time": "2018-09-09T22:03:33.649552Z"
    }
   },
   "outputs": [
    {
     "name": "stdout",
     "output_type": "stream",
     "text": [
      "Acurácia no conjunto de treino: 1.0\n",
      "Acurácia no conjunto de teste: 1.0\n"
     ]
    }
   ],
   "source": [
    "w = fit(hepatitis_X_train,hepatitis_Y_train,0)\n",
    "pred_train = predict(w,hepatitis_X_train)\n",
    "result_train = eval(pred_train,transform_target(hepatitis_Y_train))\n",
    "pred_test = predict(w,hepatitis_X_test)\n",
    "result_test = eval(pred_test,transform_target(hepatitis_Y_test))\n",
    "print(\"Acurácia no conjunto de treino:\", result_train)\n",
    "print(\"Acurácia no conjunto de teste:\", result_test)"
   ]
  },
  {
   "cell_type": "markdown",
   "metadata": {},
   "source": [
    "&emsp; Dado o resultado obtido podemos notar que a classes de hepatite são facilmente linearmente separáveis"
   ]
  },
  {
   "cell_type": "markdown",
   "metadata": {},
   "source": [
    "### 3.3 Diabetes"
   ]
  },
  {
   "cell_type": "code",
   "execution_count": 173,
   "metadata": {
    "ExecuteTime": {
     "end_time": "2018-09-09T22:06:41.626348Z",
     "start_time": "2018-09-09T22:06:41.468437Z"
    }
   },
   "outputs": [
    {
     "name": "stdout",
     "output_type": "stream",
     "text": [
      "Acurácia no conjunto de treino: 0.5471890623405775\n",
      "Acurácia no conjunto de treino: 0.523459347488348\n"
     ]
    }
   ],
   "source": [
    "w = fit(diabetes_X_train,diabetes_Y_train,0)\n",
    "pred_train = predict(w,diabetes_X_train)\n",
    "train_result = eval(pred_train,transform_target(diabetes_Y_train))\n",
    "pred_test = predict(w,diabetes_X_test)\n",
    "test_result = eval(pred_test,transform_target(diabetes_Y_test))\n",
    "print(\"Acurácia no conjunto de treino:\", train_result)\n",
    "print(\"Acurácia no conjunto de treino:\", test_result)"
   ]
  },
  {
   "cell_type": "markdown",
   "metadata": {},
   "source": [
    "&emsp; Provavelmente devido a pouca quantidade de features para determinar cada classe podemos notar que o modelo não foi seque capaz de se ajustar o conjunto de treinamento. "
   ]
  },
  {
   "cell_type": "markdown",
   "metadata": {},
   "source": [
    "# 4. Código"
   ]
  },
  {
   "cell_type": "markdown",
   "metadata": {},
   "source": [
    "## 4.1 Carregar os dados"
   ]
  },
  {
   "cell_type": "code",
   "execution_count": 1,
   "metadata": {
    "ExecuteTime": {
     "end_time": "2018-09-08T18:41:18.857451Z",
     "start_time": "2018-09-08T18:41:18.182564Z"
    }
   },
   "outputs": [
    {
     "name": "stdout",
     "output_type": "stream",
     "text": [
      "hepatitis\n"
     ]
    },
    {
     "data": {
      "text/html": [
       "<div>\n",
       "<style scoped>\n",
       "    .dataframe tbody tr th:only-of-type {\n",
       "        vertical-align: middle;\n",
       "    }\n",
       "\n",
       "    .dataframe tbody tr th {\n",
       "        vertical-align: top;\n",
       "    }\n",
       "\n",
       "    .dataframe thead th {\n",
       "        text-align: right;\n",
       "    }\n",
       "</style>\n",
       "<table border=\"1\" class=\"dataframe\">\n",
       "  <thead>\n",
       "    <tr style=\"text-align: right;\">\n",
       "      <th></th>\n",
       "      <th>class</th>\n",
       "      <th>age</th>\n",
       "      <th>sex</th>\n",
       "      <th>steroid</th>\n",
       "      <th>antivirals</th>\n",
       "      <th>fatigue</th>\n",
       "      <th>malaise</th>\n",
       "      <th>anorexia</th>\n",
       "      <th>liver_big</th>\n",
       "      <th>liver_firm</th>\n",
       "      <th>spleenn_palpable</th>\n",
       "      <th>spiders</th>\n",
       "      <th>ascites</th>\n",
       "      <th>varices</th>\n",
       "      <th>bilirubin</th>\n",
       "      <th>alk_phosphate</th>\n",
       "      <th>sgot</th>\n",
       "      <th>albumin</th>\n",
       "      <th>protine</th>\n",
       "      <th>histology</th>\n",
       "    </tr>\n",
       "  </thead>\n",
       "  <tbody>\n",
       "    <tr>\n",
       "      <th>0</th>\n",
       "      <td>2</td>\n",
       "      <td>30</td>\n",
       "      <td>2</td>\n",
       "      <td>1.0</td>\n",
       "      <td>2</td>\n",
       "      <td>2.0</td>\n",
       "      <td>2.0</td>\n",
       "      <td>2.0</td>\n",
       "      <td>1.0</td>\n",
       "      <td>2.0</td>\n",
       "      <td>2.0</td>\n",
       "      <td>2.0</td>\n",
       "      <td>2.0</td>\n",
       "      <td>2.0</td>\n",
       "      <td>1.0</td>\n",
       "      <td>85.0</td>\n",
       "      <td>18.0</td>\n",
       "      <td>4.0</td>\n",
       "      <td>NaN</td>\n",
       "      <td>1</td>\n",
       "    </tr>\n",
       "    <tr>\n",
       "      <th>1</th>\n",
       "      <td>2</td>\n",
       "      <td>50</td>\n",
       "      <td>1</td>\n",
       "      <td>1.0</td>\n",
       "      <td>2</td>\n",
       "      <td>1.0</td>\n",
       "      <td>2.0</td>\n",
       "      <td>2.0</td>\n",
       "      <td>1.0</td>\n",
       "      <td>2.0</td>\n",
       "      <td>2.0</td>\n",
       "      <td>2.0</td>\n",
       "      <td>2.0</td>\n",
       "      <td>2.0</td>\n",
       "      <td>0.9</td>\n",
       "      <td>135.0</td>\n",
       "      <td>42.0</td>\n",
       "      <td>3.5</td>\n",
       "      <td>NaN</td>\n",
       "      <td>1</td>\n",
       "    </tr>\n",
       "    <tr>\n",
       "      <th>2</th>\n",
       "      <td>2</td>\n",
       "      <td>78</td>\n",
       "      <td>1</td>\n",
       "      <td>2.0</td>\n",
       "      <td>2</td>\n",
       "      <td>1.0</td>\n",
       "      <td>2.0</td>\n",
       "      <td>2.0</td>\n",
       "      <td>2.0</td>\n",
       "      <td>2.0</td>\n",
       "      <td>2.0</td>\n",
       "      <td>2.0</td>\n",
       "      <td>2.0</td>\n",
       "      <td>2.0</td>\n",
       "      <td>0.7</td>\n",
       "      <td>96.0</td>\n",
       "      <td>32.0</td>\n",
       "      <td>4.0</td>\n",
       "      <td>NaN</td>\n",
       "      <td>1</td>\n",
       "    </tr>\n",
       "    <tr>\n",
       "      <th>3</th>\n",
       "      <td>2</td>\n",
       "      <td>31</td>\n",
       "      <td>1</td>\n",
       "      <td>NaN</td>\n",
       "      <td>1</td>\n",
       "      <td>2.0</td>\n",
       "      <td>2.0</td>\n",
       "      <td>2.0</td>\n",
       "      <td>2.0</td>\n",
       "      <td>2.0</td>\n",
       "      <td>2.0</td>\n",
       "      <td>2.0</td>\n",
       "      <td>2.0</td>\n",
       "      <td>2.0</td>\n",
       "      <td>0.7</td>\n",
       "      <td>46.0</td>\n",
       "      <td>52.0</td>\n",
       "      <td>4.0</td>\n",
       "      <td>80.0</td>\n",
       "      <td>1</td>\n",
       "    </tr>\n",
       "    <tr>\n",
       "      <th>4</th>\n",
       "      <td>2</td>\n",
       "      <td>34</td>\n",
       "      <td>1</td>\n",
       "      <td>2.0</td>\n",
       "      <td>2</td>\n",
       "      <td>2.0</td>\n",
       "      <td>2.0</td>\n",
       "      <td>2.0</td>\n",
       "      <td>2.0</td>\n",
       "      <td>2.0</td>\n",
       "      <td>2.0</td>\n",
       "      <td>2.0</td>\n",
       "      <td>2.0</td>\n",
       "      <td>2.0</td>\n",
       "      <td>1.0</td>\n",
       "      <td>NaN</td>\n",
       "      <td>200.0</td>\n",
       "      <td>4.0</td>\n",
       "      <td>NaN</td>\n",
       "      <td>1</td>\n",
       "    </tr>\n",
       "  </tbody>\n",
       "</table>\n",
       "</div>"
      ],
      "text/plain": [
       "   class  age  sex  steroid  antivirals  fatigue  malaise  anorexia  \\\n",
       "0      2   30    2      1.0           2      2.0      2.0       2.0   \n",
       "1      2   50    1      1.0           2      1.0      2.0       2.0   \n",
       "2      2   78    1      2.0           2      1.0      2.0       2.0   \n",
       "3      2   31    1      NaN           1      2.0      2.0       2.0   \n",
       "4      2   34    1      2.0           2      2.0      2.0       2.0   \n",
       "\n",
       "   liver_big  liver_firm  spleenn_palpable  spiders  ascites  varices  \\\n",
       "0        1.0         2.0               2.0      2.0      2.0      2.0   \n",
       "1        1.0         2.0               2.0      2.0      2.0      2.0   \n",
       "2        2.0         2.0               2.0      2.0      2.0      2.0   \n",
       "3        2.0         2.0               2.0      2.0      2.0      2.0   \n",
       "4        2.0         2.0               2.0      2.0      2.0      2.0   \n",
       "\n",
       "   bilirubin  alk_phosphate   sgot  albumin  protine  histology  \n",
       "0        1.0           85.0   18.0      4.0      NaN          1  \n",
       "1        0.9          135.0   42.0      3.5      NaN          1  \n",
       "2        0.7           96.0   32.0      4.0      NaN          1  \n",
       "3        0.7           46.0   52.0      4.0     80.0          1  \n",
       "4        1.0            NaN  200.0      4.0      NaN          1  "
      ]
     },
     "metadata": {},
     "output_type": "display_data"
    },
    {
     "name": "stdout",
     "output_type": "stream",
     "text": [
      "iris\n"
     ]
    },
    {
     "data": {
      "text/html": [
       "<div>\n",
       "<style scoped>\n",
       "    .dataframe tbody tr th:only-of-type {\n",
       "        vertical-align: middle;\n",
       "    }\n",
       "\n",
       "    .dataframe tbody tr th {\n",
       "        vertical-align: top;\n",
       "    }\n",
       "\n",
       "    .dataframe thead th {\n",
       "        text-align: right;\n",
       "    }\n",
       "</style>\n",
       "<table border=\"1\" class=\"dataframe\">\n",
       "  <thead>\n",
       "    <tr style=\"text-align: right;\">\n",
       "      <th></th>\n",
       "      <th>sepal_length</th>\n",
       "      <th>sepal_width</th>\n",
       "      <th>petal_length</th>\n",
       "      <th>petal_width</th>\n",
       "      <th>class</th>\n",
       "    </tr>\n",
       "  </thead>\n",
       "  <tbody>\n",
       "    <tr>\n",
       "      <th>0</th>\n",
       "      <td>5.1</td>\n",
       "      <td>3.5</td>\n",
       "      <td>1.4</td>\n",
       "      <td>0.2</td>\n",
       "      <td>Iris-setosa</td>\n",
       "    </tr>\n",
       "    <tr>\n",
       "      <th>1</th>\n",
       "      <td>4.9</td>\n",
       "      <td>3.0</td>\n",
       "      <td>1.4</td>\n",
       "      <td>0.2</td>\n",
       "      <td>Iris-setosa</td>\n",
       "    </tr>\n",
       "    <tr>\n",
       "      <th>2</th>\n",
       "      <td>4.7</td>\n",
       "      <td>3.2</td>\n",
       "      <td>1.3</td>\n",
       "      <td>0.2</td>\n",
       "      <td>Iris-setosa</td>\n",
       "    </tr>\n",
       "    <tr>\n",
       "      <th>3</th>\n",
       "      <td>4.6</td>\n",
       "      <td>3.1</td>\n",
       "      <td>1.5</td>\n",
       "      <td>0.2</td>\n",
       "      <td>Iris-setosa</td>\n",
       "    </tr>\n",
       "    <tr>\n",
       "      <th>4</th>\n",
       "      <td>5.0</td>\n",
       "      <td>3.6</td>\n",
       "      <td>1.4</td>\n",
       "      <td>0.2</td>\n",
       "      <td>Iris-setosa</td>\n",
       "    </tr>\n",
       "  </tbody>\n",
       "</table>\n",
       "</div>"
      ],
      "text/plain": [
       "   sepal_length  sepal_width  petal_length  petal_width        class\n",
       "0           5.1          3.5           1.4          0.2  Iris-setosa\n",
       "1           4.9          3.0           1.4          0.2  Iris-setosa\n",
       "2           4.7          3.2           1.3          0.2  Iris-setosa\n",
       "3           4.6          3.1           1.5          0.2  Iris-setosa\n",
       "4           5.0          3.6           1.4          0.2  Iris-setosa"
      ]
     },
     "metadata": {},
     "output_type": "display_data"
    },
    {
     "name": "stdout",
     "output_type": "stream",
     "text": [
      "diabetes\n"
     ]
    },
    {
     "data": {
      "text/html": [
       "<div>\n",
       "<style scoped>\n",
       "    .dataframe tbody tr th:only-of-type {\n",
       "        vertical-align: middle;\n",
       "    }\n",
       "\n",
       "    .dataframe tbody tr th {\n",
       "        vertical-align: top;\n",
       "    }\n",
       "\n",
       "    .dataframe thead th {\n",
       "        text-align: right;\n",
       "    }\n",
       "</style>\n",
       "<table border=\"1\" class=\"dataframe\">\n",
       "  <thead>\n",
       "    <tr style=\"text-align: right;\">\n",
       "      <th></th>\n",
       "      <th>date</th>\n",
       "      <th>time</th>\n",
       "      <th>code</th>\n",
       "      <th>value</th>\n",
       "    </tr>\n",
       "  </thead>\n",
       "  <tbody>\n",
       "    <tr>\n",
       "      <th>0</th>\n",
       "      <td>04-21-1991</td>\n",
       "      <td>9:09</td>\n",
       "      <td>58</td>\n",
       "      <td>100</td>\n",
       "    </tr>\n",
       "    <tr>\n",
       "      <th>1</th>\n",
       "      <td>04-21-1991</td>\n",
       "      <td>9:09</td>\n",
       "      <td>33</td>\n",
       "      <td>9</td>\n",
       "    </tr>\n",
       "    <tr>\n",
       "      <th>2</th>\n",
       "      <td>04-21-1991</td>\n",
       "      <td>9:09</td>\n",
       "      <td>34</td>\n",
       "      <td>13</td>\n",
       "    </tr>\n",
       "    <tr>\n",
       "      <th>3</th>\n",
       "      <td>04-21-1991</td>\n",
       "      <td>17:08</td>\n",
       "      <td>62</td>\n",
       "      <td>119</td>\n",
       "    </tr>\n",
       "    <tr>\n",
       "      <th>4</th>\n",
       "      <td>04-21-1991</td>\n",
       "      <td>17:08</td>\n",
       "      <td>33</td>\n",
       "      <td>7</td>\n",
       "    </tr>\n",
       "  </tbody>\n",
       "</table>\n",
       "</div>"
      ],
      "text/plain": [
       "         date   time  code value\n",
       "0  04-21-1991   9:09    58   100\n",
       "1  04-21-1991   9:09    33     9\n",
       "2  04-21-1991   9:09    34    13\n",
       "3  04-21-1991  17:08    62   119\n",
       "4  04-21-1991  17:08    33     7"
      ]
     },
     "metadata": {},
     "output_type": "display_data"
    }
   ],
   "source": [
    "import numpy as np\n",
    "import pandas as pd\n",
    "from IPython.display import display, HTML\n",
    "\n",
    "iris = pd.read_csv(\"data/iris.data\",names=['sepal_length','sepal_width',\n",
    "                                          'petal_length','petal_width','class'],na_values='?')\n",
    "\n",
    "hepatitis = pd.read_csv(\"data/hepatitis.data\",names=['class','age','sex','steroid','antivirals',\n",
    "                                                     'fatigue','malaise','anorexia','liver_big',\n",
    "                                                    'liver_firm','spleenn_palpable','spiders','ascites',\n",
    "                                                    'varices','bilirubin','alk_phosphate','sgot',\n",
    "                                                     'albumin','protine','histology'],na_values='?')\n",
    "\n",
    "\n",
    "diabetes = pd.DataFrame()\n",
    "for i in range(1,71):\n",
    "    df_csv = pd.read_csv('data/Diabetes-Data/data-'+('0'+str(i) if i < 10 else str(i)),\n",
    "                         sep=\"\\t\",\n",
    "                        names=['date','time','code','value'],na_values='?')\n",
    "    diabetes = pd.concat([diabetes,df_csv])\n",
    "    \n",
    "\n",
    "print(\"hepatitis\")\n",
    "display(hepatitis.head())\n",
    "print(\"iris\")\n",
    "display(iris.head())\n",
    "print(\"diabetes\")\n",
    "display(diabetes.head())"
   ]
  },
  {
   "cell_type": "markdown",
   "metadata": {},
   "source": [
    "## 4.2 Pré-Processamento"
   ]
  },
  {
   "cell_type": "code",
   "execution_count": 2,
   "metadata": {
    "ExecuteTime": {
     "end_time": "2018-09-08T18:41:19.345921Z",
     "start_time": "2018-09-08T18:41:18.858724Z"
    }
   },
   "outputs": [
    {
     "name": "stdout",
     "output_type": "stream",
     "text": [
      "Percentual dos dados de diabetes que possuem formatação errada no campo time:  0.1125127855438118\n"
     ]
    }
   ],
   "source": [
    "# tornando classes do hepaite 0 ou 1\n",
    "hepatitis['class'] = hepatitis['class']-1\n",
    "\n",
    "# criando os valores binários para cada classe\n",
    "iris = pd.concat([iris,pd.get_dummies(iris['class'])],axis=1)\n",
    "\n",
    "prop = len(diabetes[~diabetes.time.str.contains(':')])/len(diabetes)*100\n",
    "print(\"Percentual dos dados de diabetes que possuem formatação errada no campo time: \",prop)\n",
    "# remoção de campos com valores errados\n",
    "diabetes = diabetes[diabetes.time.str.contains(':')]\n",
    "# conversão para o tipo data, removendo valores incorretos\n",
    "diabetes['date'] = pd.to_datetime(diabetes['date'].str.strip(),format='%m-%d-%Y',errors='coerce')\n",
    "# separação do campo hora e minuto\n",
    "diabetes['hour'] = diabetes['time'].str.split(':').str[0].astype(int)\n",
    "diabetes['minute'] = diabetes['time'].str.split(':').str[1].astype(int)\n",
    "# one hot encode para os códigos\n",
    "diabetes = pd.concat([diabetes,pd.get_dummies(diabetes['code'])],axis=1)\n",
    "# removendo datas nulas\n",
    "diabetes = diabetes[diabetes.date.notnull()]\n",
    "# removendo valores da variavel alvo nulos\n",
    "diabetes = diabetes[diabetes.value.notna()]\n",
    "# transformando o value em numérico \n",
    "diabetes['value'] = pd.to_numeric(diabetes['value'],errors='coerce')"
   ]
  },
  {
   "cell_type": "markdown",
   "metadata": {},
   "source": [
    "#### Checagem de valores faltantes"
   ]
  },
  {
   "cell_type": "code",
   "execution_count": 3,
   "metadata": {
    "ExecuteTime": {
     "end_time": "2018-09-08T18:41:19.384655Z",
     "start_time": "2018-09-08T18:41:19.347272Z"
    }
   },
   "outputs": [
    {
     "name": "stdout",
     "output_type": "stream",
     "text": [
      "iris dataset\n"
     ]
    },
    {
     "data": {
      "text/html": [
       "<div>\n",
       "<style scoped>\n",
       "    .dataframe tbody tr th:only-of-type {\n",
       "        vertical-align: middle;\n",
       "    }\n",
       "\n",
       "    .dataframe tbody tr th {\n",
       "        vertical-align: top;\n",
       "    }\n",
       "\n",
       "    .dataframe thead th {\n",
       "        text-align: right;\n",
       "    }\n",
       "</style>\n",
       "<table border=\"1\" class=\"dataframe\">\n",
       "  <thead>\n",
       "    <tr style=\"text-align: right;\">\n",
       "      <th></th>\n",
       "      <th>Missing values</th>\n",
       "    </tr>\n",
       "  </thead>\n",
       "  <tbody>\n",
       "    <tr>\n",
       "      <th>sepal_length</th>\n",
       "      <td>0</td>\n",
       "    </tr>\n",
       "    <tr>\n",
       "      <th>sepal_width</th>\n",
       "      <td>0</td>\n",
       "    </tr>\n",
       "    <tr>\n",
       "      <th>petal_length</th>\n",
       "      <td>0</td>\n",
       "    </tr>\n",
       "    <tr>\n",
       "      <th>petal_width</th>\n",
       "      <td>0</td>\n",
       "    </tr>\n",
       "    <tr>\n",
       "      <th>class</th>\n",
       "      <td>0</td>\n",
       "    </tr>\n",
       "    <tr>\n",
       "      <th>Iris-setosa</th>\n",
       "      <td>0</td>\n",
       "    </tr>\n",
       "    <tr>\n",
       "      <th>Iris-versicolor</th>\n",
       "      <td>0</td>\n",
       "    </tr>\n",
       "    <tr>\n",
       "      <th>Iris-virginica</th>\n",
       "      <td>0</td>\n",
       "    </tr>\n",
       "  </tbody>\n",
       "</table>\n",
       "</div>"
      ],
      "text/plain": [
       "                 Missing values\n",
       "sepal_length                  0\n",
       "sepal_width                   0\n",
       "petal_length                  0\n",
       "petal_width                   0\n",
       "class                         0\n",
       "Iris-setosa                   0\n",
       "Iris-versicolor               0\n",
       "Iris-virginica                0"
      ]
     },
     "metadata": {},
     "output_type": "display_data"
    },
    {
     "name": "stdout",
     "output_type": "stream",
     "text": [
      "diabetes dataset\n"
     ]
    },
    {
     "data": {
      "text/html": [
       "<div>\n",
       "<style scoped>\n",
       "    .dataframe tbody tr th:only-of-type {\n",
       "        vertical-align: middle;\n",
       "    }\n",
       "\n",
       "    .dataframe tbody tr th {\n",
       "        vertical-align: top;\n",
       "    }\n",
       "\n",
       "    .dataframe thead th {\n",
       "        text-align: right;\n",
       "    }\n",
       "</style>\n",
       "<table border=\"1\" class=\"dataframe\">\n",
       "  <thead>\n",
       "    <tr style=\"text-align: right;\">\n",
       "      <th></th>\n",
       "      <th>Missing values</th>\n",
       "    </tr>\n",
       "  </thead>\n",
       "  <tbody>\n",
       "    <tr>\n",
       "      <th>date</th>\n",
       "      <td>0</td>\n",
       "    </tr>\n",
       "    <tr>\n",
       "      <th>time</th>\n",
       "      <td>0</td>\n",
       "    </tr>\n",
       "    <tr>\n",
       "      <th>code</th>\n",
       "      <td>0</td>\n",
       "    </tr>\n",
       "    <tr>\n",
       "      <th>value</th>\n",
       "      <td>8</td>\n",
       "    </tr>\n",
       "    <tr>\n",
       "      <th>hour</th>\n",
       "      <td>0</td>\n",
       "    </tr>\n",
       "    <tr>\n",
       "      <th>minute</th>\n",
       "      <td>0</td>\n",
       "    </tr>\n",
       "    <tr>\n",
       "      <th>0</th>\n",
       "      <td>0</td>\n",
       "    </tr>\n",
       "    <tr>\n",
       "      <th>4</th>\n",
       "      <td>0</td>\n",
       "    </tr>\n",
       "    <tr>\n",
       "      <th>33</th>\n",
       "      <td>0</td>\n",
       "    </tr>\n",
       "    <tr>\n",
       "      <th>34</th>\n",
       "      <td>0</td>\n",
       "    </tr>\n",
       "    <tr>\n",
       "      <th>35</th>\n",
       "      <td>0</td>\n",
       "    </tr>\n",
       "    <tr>\n",
       "      <th>36</th>\n",
       "      <td>0</td>\n",
       "    </tr>\n",
       "    <tr>\n",
       "      <th>48</th>\n",
       "      <td>0</td>\n",
       "    </tr>\n",
       "    <tr>\n",
       "      <th>56</th>\n",
       "      <td>0</td>\n",
       "    </tr>\n",
       "    <tr>\n",
       "      <th>57</th>\n",
       "      <td>0</td>\n",
       "    </tr>\n",
       "    <tr>\n",
       "      <th>58</th>\n",
       "      <td>0</td>\n",
       "    </tr>\n",
       "    <tr>\n",
       "      <th>59</th>\n",
       "      <td>0</td>\n",
       "    </tr>\n",
       "    <tr>\n",
       "      <th>60</th>\n",
       "      <td>0</td>\n",
       "    </tr>\n",
       "    <tr>\n",
       "      <th>61</th>\n",
       "      <td>0</td>\n",
       "    </tr>\n",
       "    <tr>\n",
       "      <th>62</th>\n",
       "      <td>0</td>\n",
       "    </tr>\n",
       "    <tr>\n",
       "      <th>63</th>\n",
       "      <td>0</td>\n",
       "    </tr>\n",
       "    <tr>\n",
       "      <th>64</th>\n",
       "      <td>0</td>\n",
       "    </tr>\n",
       "    <tr>\n",
       "      <th>65</th>\n",
       "      <td>0</td>\n",
       "    </tr>\n",
       "    <tr>\n",
       "      <th>66</th>\n",
       "      <td>0</td>\n",
       "    </tr>\n",
       "    <tr>\n",
       "      <th>67</th>\n",
       "      <td>0</td>\n",
       "    </tr>\n",
       "    <tr>\n",
       "      <th>68</th>\n",
       "      <td>0</td>\n",
       "    </tr>\n",
       "    <tr>\n",
       "      <th>69</th>\n",
       "      <td>0</td>\n",
       "    </tr>\n",
       "    <tr>\n",
       "      <th>70</th>\n",
       "      <td>0</td>\n",
       "    </tr>\n",
       "    <tr>\n",
       "      <th>71</th>\n",
       "      <td>0</td>\n",
       "    </tr>\n",
       "    <tr>\n",
       "      <th>72</th>\n",
       "      <td>0</td>\n",
       "    </tr>\n",
       "  </tbody>\n",
       "</table>\n",
       "</div>"
      ],
      "text/plain": [
       "        Missing values\n",
       "date                 0\n",
       "time                 0\n",
       "code                 0\n",
       "value                8\n",
       "hour                 0\n",
       "minute               0\n",
       "0                    0\n",
       "4                    0\n",
       "33                   0\n",
       "34                   0\n",
       "35                   0\n",
       "36                   0\n",
       "48                   0\n",
       "56                   0\n",
       "57                   0\n",
       "58                   0\n",
       "59                   0\n",
       "60                   0\n",
       "61                   0\n",
       "62                   0\n",
       "63                   0\n",
       "64                   0\n",
       "65                   0\n",
       "66                   0\n",
       "67                   0\n",
       "68                   0\n",
       "69                   0\n",
       "70                   0\n",
       "71                   0\n",
       "72                   0"
      ]
     },
     "metadata": {},
     "output_type": "display_data"
    },
    {
     "name": "stdout",
     "output_type": "stream",
     "text": [
      "hapatitis dataset\n"
     ]
    },
    {
     "data": {
      "text/html": [
       "<div>\n",
       "<style scoped>\n",
       "    .dataframe tbody tr th:only-of-type {\n",
       "        vertical-align: middle;\n",
       "    }\n",
       "\n",
       "    .dataframe tbody tr th {\n",
       "        vertical-align: top;\n",
       "    }\n",
       "\n",
       "    .dataframe thead th {\n",
       "        text-align: right;\n",
       "    }\n",
       "</style>\n",
       "<table border=\"1\" class=\"dataframe\">\n",
       "  <thead>\n",
       "    <tr style=\"text-align: right;\">\n",
       "      <th></th>\n",
       "      <th>Missing values</th>\n",
       "    </tr>\n",
       "  </thead>\n",
       "  <tbody>\n",
       "    <tr>\n",
       "      <th>class</th>\n",
       "      <td>0</td>\n",
       "    </tr>\n",
       "    <tr>\n",
       "      <th>age</th>\n",
       "      <td>0</td>\n",
       "    </tr>\n",
       "    <tr>\n",
       "      <th>sex</th>\n",
       "      <td>0</td>\n",
       "    </tr>\n",
       "    <tr>\n",
       "      <th>steroid</th>\n",
       "      <td>1</td>\n",
       "    </tr>\n",
       "    <tr>\n",
       "      <th>antivirals</th>\n",
       "      <td>0</td>\n",
       "    </tr>\n",
       "    <tr>\n",
       "      <th>fatigue</th>\n",
       "      <td>1</td>\n",
       "    </tr>\n",
       "    <tr>\n",
       "      <th>malaise</th>\n",
       "      <td>1</td>\n",
       "    </tr>\n",
       "    <tr>\n",
       "      <th>anorexia</th>\n",
       "      <td>1</td>\n",
       "    </tr>\n",
       "    <tr>\n",
       "      <th>liver_big</th>\n",
       "      <td>10</td>\n",
       "    </tr>\n",
       "    <tr>\n",
       "      <th>liver_firm</th>\n",
       "      <td>11</td>\n",
       "    </tr>\n",
       "    <tr>\n",
       "      <th>spleenn_palpable</th>\n",
       "      <td>5</td>\n",
       "    </tr>\n",
       "    <tr>\n",
       "      <th>spiders</th>\n",
       "      <td>5</td>\n",
       "    </tr>\n",
       "    <tr>\n",
       "      <th>ascites</th>\n",
       "      <td>5</td>\n",
       "    </tr>\n",
       "    <tr>\n",
       "      <th>varices</th>\n",
       "      <td>5</td>\n",
       "    </tr>\n",
       "    <tr>\n",
       "      <th>bilirubin</th>\n",
       "      <td>6</td>\n",
       "    </tr>\n",
       "    <tr>\n",
       "      <th>alk_phosphate</th>\n",
       "      <td>29</td>\n",
       "    </tr>\n",
       "    <tr>\n",
       "      <th>sgot</th>\n",
       "      <td>4</td>\n",
       "    </tr>\n",
       "    <tr>\n",
       "      <th>albumin</th>\n",
       "      <td>16</td>\n",
       "    </tr>\n",
       "    <tr>\n",
       "      <th>protine</th>\n",
       "      <td>67</td>\n",
       "    </tr>\n",
       "    <tr>\n",
       "      <th>histology</th>\n",
       "      <td>0</td>\n",
       "    </tr>\n",
       "  </tbody>\n",
       "</table>\n",
       "</div>"
      ],
      "text/plain": [
       "                  Missing values\n",
       "class                          0\n",
       "age                            0\n",
       "sex                            0\n",
       "steroid                        1\n",
       "antivirals                     0\n",
       "fatigue                        1\n",
       "malaise                        1\n",
       "anorexia                       1\n",
       "liver_big                     10\n",
       "liver_firm                    11\n",
       "spleenn_palpable               5\n",
       "spiders                        5\n",
       "ascites                        5\n",
       "varices                        5\n",
       "bilirubin                      6\n",
       "alk_phosphate                 29\n",
       "sgot                           4\n",
       "albumin                       16\n",
       "protine                       67\n",
       "histology                      0"
      ]
     },
     "metadata": {},
     "output_type": "display_data"
    }
   ],
   "source": [
    "print(\"iris dataset\")\n",
    "display(pd.DataFrame(iris.isnull().sum(),columns=['Missing values']))\n",
    "print(\"diabetes dataset\")\n",
    "display(pd.DataFrame(diabetes.isnull().sum(),columns=['Missing values']))\n",
    "print(\"hapatitis dataset\")\n",
    "display(pd.DataFrame(hepatitis.isnull().sum(),columns=['Missing values']))"
   ]
  },
  {
   "cell_type": "markdown",
   "metadata": {},
   "source": [
    "#### Preenchendo os valores desconhecidos com a média"
   ]
  },
  {
   "cell_type": "code",
   "execution_count": 4,
   "metadata": {
    "ExecuteTime": {
     "end_time": "2018-09-08T18:41:19.999358Z",
     "start_time": "2018-09-08T18:41:19.385948Z"
    },
    "collapsed": true
   },
   "outputs": [],
   "source": [
    "hepatitis = hepatitis.fillna(hepatitis.mean())\n",
    "diabetes = diabetes.fillna(diabetes.mean())"
   ]
  },
  {
   "cell_type": "markdown",
   "metadata": {},
   "source": [
    "#### Separando entradas e alvos"
   ]
  },
  {
   "cell_type": "code",
   "execution_count": 5,
   "metadata": {
    "ExecuteTime": {
     "end_time": "2018-09-08T18:41:20.008403Z",
     "start_time": "2018-09-08T18:41:20.000711Z"
    },
    "collapsed": true
   },
   "outputs": [],
   "source": [
    "# iris dataset\n",
    "iris_X = iris[['sepal_length','sepal_width','petal_length','petal_width']]\n",
    "iris_Y = iris[['Iris-setosa','Iris-versicolor','Iris-virginica']]\n",
    "\n",
    "# diabetes\n",
    "diabetes_X = diabetes[['hour','minute','value']]\n",
    "diabetes_Y = diabetes[[0,4,33,34,35,36,48,56,57,58,59,60,61,62,63,\n",
    "                       64,65,66,67,68,69,70,71,72]]\n",
    "# hepatitis\n",
    "hepatitis_X = hepatitis[hepatitis.columns.drop('class').tolist()]\n",
    "hepatitis_Y = hepatitis['class']"
   ]
  },
  {
   "cell_type": "markdown",
   "metadata": {},
   "source": [
    "#### Escalonamento dos dados"
   ]
  },
  {
   "cell_type": "markdown",
   "metadata": {},
   "source": [
    "\\begin{align}\n",
    "\\ X_{new} & = \\frac {X -\\mu} {\\sigma} \\\\\n",
    "\\end{align}"
   ]
  },
  {
   "cell_type": "code",
   "execution_count": 6,
   "metadata": {
    "ExecuteTime": {
     "end_time": "2018-09-08T18:41:20.216047Z",
     "start_time": "2018-09-08T18:41:20.009737Z"
    },
    "collapsed": true
   },
   "outputs": [],
   "source": [
    "from sklearn import preprocessing\n",
    "scaler = preprocessing.StandardScaler()\n",
    "\n",
    "# scaling the iris dataset\n",
    "iris_scaled = scaler.fit_transform(iris_X)\n",
    "\n",
    "# scaling the diabetes dataset\n",
    "diabetes_scaled = scaler.fit_transform(diabetes_X)\n",
    "\n",
    "# scaling hepatitis\n",
    "hepatitis_scaled = scaler.fit_transform(hepatitis_X)"
   ]
  },
  {
   "cell_type": "markdown",
   "metadata": {},
   "source": [
    "#### Divisão em treino e teste"
   ]
  },
  {
   "cell_type": "code",
   "execution_count": 7,
   "metadata": {
    "ExecuteTime": {
     "end_time": "2018-09-08T18:41:20.235483Z",
     "start_time": "2018-09-08T18:41:20.217591Z"
    },
    "collapsed": true
   },
   "outputs": [],
   "source": [
    "from sklearn.model_selection import train_test_split\n",
    "\n",
    "iris_X_train, iris_X_test, iris_Y_train, iris_Y_test = train_test_split(iris_scaled,\n",
    "                                                                iris_Y,\n",
    "                                                                test_size=0.33,\n",
    "                                                                shuffle=False)\n",
    "diabetes_X_train, diabetes_X_test, diabetes_Y_train, diabetes_Y_test = train_test_split(diabetes_scaled,\n",
    "                                                                                diabetes_Y,\n",
    "                                                                                test_size=0.33,\n",
    "                                                                                shuffle=False)\n",
    "hepatitis_X_train, hepatitis_X_test, hepatitis_Y_train, hepatitis_Y_test = train_test_split(hepatitis_scaled,\n",
    "                                                                                    hepatitis_Y,\n",
    "                                                                                    test_size=0.33,\n",
    "                                                                                    shuffle=False)\n"
   ]
  },
  {
   "cell_type": "markdown",
   "metadata": {},
   "source": [
    "## 4.3 Classificador"
   ]
  },
  {
   "cell_type": "markdown",
   "metadata": {},
   "source": [
    "#### Pseudo inversa regularizada"
   ]
  },
  {
   "cell_type": "markdown",
   "metadata": {},
   "source": [
    "\\begin{align}\n",
    "\\ X_{new} & = \\ (\\frac{\\gamma}{N}I+X^tX)^{-1}X^t \\\\\n",
    "\\end{align}"
   ]
  },
  {
   "cell_type": "code",
   "execution_count": 162,
   "metadata": {
    "ExecuteTime": {
     "end_time": "2018-09-09T21:34:52.489116Z",
     "start_time": "2018-09-09T21:34:52.485574Z"
    },
    "collapsed": true
   },
   "outputs": [],
   "source": [
    "import numpy.linalg\n",
    "def pseudo_inversa(X,gamma):\n",
    "    \"\"\"\n",
    "    Recebe um DataFrame\n",
    "    Retorna a pseudo inversa de uma matriz\n",
    "    \"\"\"\n",
    "    \n",
    "    xt_x = np.dot(X.T,X)\n",
    "    reg = (gamma/len(X))*np.identity(len(xt_x))\n",
    "    inverse = np.linalg.inv(reg+xt_x)\n",
    "    pseudo = np.dot(inverse,X.T)\n",
    "    return pseudo"
   ]
  },
  {
   "cell_type": "markdown",
   "metadata": {},
   "source": [
    "#### Encontra os pesos"
   ]
  },
  {
   "cell_type": "code",
   "execution_count": 91,
   "metadata": {
    "ExecuteTime": {
     "end_time": "2018-09-09T16:21:13.234887Z",
     "start_time": "2018-09-09T16:21:13.231891Z"
    },
    "collapsed": true
   },
   "outputs": [],
   "source": [
    "def fit(X,y,gamma):\n",
    "    \"\"\"\n",
    "    Recebe o conjunto de treino e o alvo\n",
    "    retorna os pesos\n",
    "    \"\"\"\n",
    "    w = np.dot(pseudo_inversa(X,gamma),y)\n",
    "    return w"
   ]
  },
  {
   "cell_type": "markdown",
   "metadata": {},
   "source": [
    "#### Classifica os valores"
   ]
  },
  {
   "cell_type": "code",
   "execution_count": 97,
   "metadata": {
    "ExecuteTime": {
     "end_time": "2018-09-09T16:22:28.939219Z",
     "start_time": "2018-09-09T16:22:28.936294Z"
    },
    "collapsed": true
   },
   "outputs": [],
   "source": [
    "def predict(w, data):\n",
    "    \"\"\"\n",
    "    Recebe os pesos do modelo e os dados para classificar a entrada\n",
    "    \"\"\"\n",
    "    result = []\n",
    "    for i in data:\n",
    "        result.append(np.argmax(np.dot(w.T,i)))\n",
    "    return result"
   ]
  },
  {
   "cell_type": "markdown",
   "metadata": {
    "ExecuteTime": {
     "end_time": "2018-09-09T19:37:16.534584Z",
     "start_time": "2018-09-09T19:37:16.532161Z"
    }
   },
   "source": [
    "#### Avalia a acurácia do modelo"
   ]
  },
  {
   "cell_type": "code",
   "execution_count": 55,
   "metadata": {
    "ExecuteTime": {
     "end_time": "2018-09-09T15:16:01.696980Z",
     "start_time": "2018-09-09T15:16:01.693395Z"
    },
    "collapsed": true
   },
   "outputs": [],
   "source": [
    "from sklearn.metrics import accuracy_score\n",
    "def eval(pred, actual):\n",
    "    \"\"\"\n",
    "    Avalia a acuracia do modelo\n",
    "    \"\"\"\n",
    "    return accuracy_score(pred,actual)"
   ]
  },
  {
   "cell_type": "markdown",
   "metadata": {
    "ExecuteTime": {
     "end_time": "2018-09-09T19:39:16.076271Z",
     "start_time": "2018-09-09T19:39:16.073999Z"
    }
   },
   "source": [
    "#### Transforma a variável alvo para a avaliação do modelo"
   ]
  },
  {
   "cell_type": "code",
   "execution_count": 72,
   "metadata": {
    "ExecuteTime": {
     "end_time": "2018-09-09T15:56:01.969610Z",
     "start_time": "2018-09-09T15:56:01.966668Z"
    },
    "collapsed": true
   },
   "outputs": [],
   "source": [
    "def transform_target(y):\n",
    "    \"\"\"\n",
    "    Transforma a variavel alvo \n",
    "    \"\"\"\n",
    "     return [np.argmax(i) for i in y.as_matrix()]"
   ]
  }
 ],
 "metadata": {
  "hide_input": false,
  "kernelspec": {
   "display_name": "Python 3",
   "language": "python",
   "name": "python3"
  },
  "language_info": {
   "codemirror_mode": {
    "name": "ipython",
    "version": 3
   },
   "file_extension": ".py",
   "mimetype": "text/x-python",
   "name": "python",
   "nbconvert_exporter": "python",
   "pygments_lexer": "ipython3",
   "version": "3.6.3"
  }
 },
 "nbformat": 4,
 "nbformat_minor": 2
}
